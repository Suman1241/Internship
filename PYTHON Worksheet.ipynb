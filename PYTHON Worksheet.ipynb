{
 "cells": [
  {
   "cell_type": "code",
   "execution_count": 1,
   "id": "2a1cf60e",
   "metadata": {},
   "outputs": [],
   "source": [
    "#11. Write a python program to find the factorial of a number"
   ]
  },
  {
   "cell_type": "code",
   "execution_count": 5,
   "id": "56ab2ac2",
   "metadata": {},
   "outputs": [],
   "source": [
    "import math"
   ]
  },
  {
   "cell_type": "code",
   "execution_count": 8,
   "id": "887e11dd",
   "metadata": {},
   "outputs": [
    {
     "name": "stdout",
     "output_type": "stream",
     "text": [
      "7\n",
      "5040\n"
     ]
    }
   ],
   "source": [
    "x=int(input())\n",
    "print(math.factorial(x))"
   ]
  },
  {
   "cell_type": "code",
   "execution_count": 9,
   "id": "e39f6eee",
   "metadata": {},
   "outputs": [
    {
     "name": "stdout",
     "output_type": "stream",
     "text": [
      "6\n",
      "720\n"
     ]
    }
   ],
   "source": [
    "x=int(input())\n",
    "print(math.factorial(x))"
   ]
  },
  {
   "cell_type": "code",
   "execution_count": 11,
   "id": "a0754108",
   "metadata": {},
   "outputs": [
    {
     "name": "stdout",
     "output_type": "stream",
     "text": [
      "9\n",
      "362880\n"
     ]
    }
   ],
   "source": [
    "n=int(input())\n",
    "print(math.factorial(n))"
   ]
  },
  {
   "cell_type": "code",
   "execution_count": 12,
   "id": "47eebe51",
   "metadata": {},
   "outputs": [],
   "source": [
    "# 12. Write a python program to find whether a number is prime or composite"
   ]
  },
  {
   "cell_type": "code",
   "execution_count": 13,
   "id": "f249d5a7",
   "metadata": {},
   "outputs": [
    {
     "name": "stdout",
     "output_type": "stream",
     "text": [
      "Enter the number5\n",
      "5 is a prime number\n"
     ]
    }
   ],
   "source": [
    "num=int(input('Enter the number'))\n",
    "if num>1:\n",
    "    for n in range(2,num):\n",
    "        if num%n==0:\n",
    "            print(num,'is not a prime number')\n",
    "            break\n",
    "        else:\n",
    "            print(num,'is a prime number')\n",
    "            break\n",
    "    else:\n",
    "        print(num,'is a prime number')\n",
    "else:\n",
    "    print(num,'is not a prime number')"
   ]
  },
  {
   "cell_type": "code",
   "execution_count": 14,
   "id": "e8302333",
   "metadata": {},
   "outputs": [
    {
     "name": "stdout",
     "output_type": "stream",
     "text": [
      "Enter the number6\n",
      "6 is not a prime number\n"
     ]
    }
   ],
   "source": [
    "num=int(input('Enter the number'))\n",
    "if num>1:\n",
    "    for n in range(2,num):\n",
    "        if num%n==0:\n",
    "            print(num,'is not a prime number')\n",
    "            break\n",
    "        else:\n",
    "            print(num,'is a prime number')\n",
    "            break\n",
    "    else:\n",
    "        print(num,'is a prime number')\n",
    "else:\n",
    "    print(num,'is not a prime number')"
   ]
  },
  {
   "cell_type": "code",
   "execution_count": 15,
   "id": "9a2d6a5c",
   "metadata": {},
   "outputs": [],
   "source": [
    "#13. Write a python program to check whether a given string is palindrome or not."
   ]
  },
  {
   "cell_type": "code",
   "execution_count": 34,
   "id": "2e5f6d26",
   "metadata": {},
   "outputs": [],
   "source": [
    "def isPalindrome(s):\n",
    "    return s==s[::-1]"
   ]
  },
  {
   "cell_type": "code",
   "execution_count": 36,
   "id": "5d052cc9",
   "metadata": {},
   "outputs": [
    {
     "name": "stdout",
     "output_type": "stream",
     "text": [
      "No\n"
     ]
    }
   ],
   "source": [
    "\n",
    "s='Red'\n",
    "ans=isPalindrome(s)\n",
    "\n",
    "if (ans):\n",
    "    print('yes')\n",
    "else:\n",
    "    print('No')"
   ]
  },
  {
   "cell_type": "code",
   "execution_count": 37,
   "id": "277e09ff",
   "metadata": {},
   "outputs": [],
   "source": [
    "#14. Write a Python program to get the third side of right-angled triangle from two given sides.\n"
   ]
  },
  {
   "cell_type": "code",
   "execution_count": 39,
   "id": "9c71da2a",
   "metadata": {},
   "outputs": [
    {
     "data": {
      "text/plain": [
       "18.439088914585774"
      ]
     },
     "execution_count": 39,
     "metadata": {},
     "output_type": "execute_result"
    }
   ],
   "source": [
    "a=12\n",
    "b=14\n",
    "c=math.sqrt(a**2+b**2)\n",
    "c"
   ]
  },
  {
   "cell_type": "code",
   "execution_count": 40,
   "id": "8b640b1b",
   "metadata": {},
   "outputs": [],
   "source": [
    "# 15.Write a python program to print the frequency of each of the characters present in a given string"
   ]
  },
  {
   "cell_type": "code",
   "execution_count": 44,
   "id": "4b61ab20",
   "metadata": {},
   "outputs": [
    {
     "name": "stdout",
     "output_type": "stream",
     "text": [
      "Enter the Stringfirstworksheetsets\n",
      "{'f': 1, 'i': 1, 'r': 2, 's': 4, 't': 3, 'w': 1, 'o': 1, 'k': 1, 'h': 1, 'e': 3}\n"
     ]
    }
   ],
   "source": [
    "string1=input('Enter the String')\n",
    "d1=dict()\n",
    "for c in string1:\n",
    "    if c in d1:\n",
    "        d1[c]=d1[c]+1\n",
    "    else:\n",
    "        d1[c]=1\n",
    "print(d1)\n",
    "    "
   ]
  },
  {
   "cell_type": "code",
   "execution_count": 45,
   "id": "0391adf2",
   "metadata": {},
   "outputs": [
    {
     "name": "stdout",
     "output_type": "stream",
     "text": [
      "Enter the Stringfirstworksheetsets\n",
      "{'f': 1, 'i': 1, 'r': 2, 's': 4, 't': 3, 'w': 1, 'o': 1, 'k': 1, 'h': 1, 'e': 3}\n"
     ]
    }
   ],
   "source": [
    "string1=input('Enter the String')\n",
    "d1=dict()\n",
    "for c in string1:\n",
    "    d1[c]=d1.get(c,0)+1\n",
    "print(d1)"
   ]
  },
  {
   "cell_type": "code",
   "execution_count": null,
   "id": "31bae387",
   "metadata": {},
   "outputs": [],
   "source": []
  }
 ],
 "metadata": {
  "kernelspec": {
   "display_name": "Python 3",
   "language": "python",
   "name": "python3"
  },
  "language_info": {
   "codemirror_mode": {
    "name": "ipython",
    "version": 3
   },
   "file_extension": ".py",
   "mimetype": "text/x-python",
   "name": "python",
   "nbconvert_exporter": "python",
   "pygments_lexer": "ipython3",
   "version": "3.8.8"
  }
 },
 "nbformat": 4,
 "nbformat_minor": 5
}
